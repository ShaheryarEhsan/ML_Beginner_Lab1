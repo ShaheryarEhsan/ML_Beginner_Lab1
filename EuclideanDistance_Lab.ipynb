{
  "nbformat": 4,
  "nbformat_minor": 0,
  "metadata": {
    "colab": {
      "name": "EuclideanDistance_Lab.ipynb",
      "provenance": [],
      "authorship_tag": "ABX9TyMoLz/WS//o+sMYpOqUCdXI",
      "include_colab_link": true
    },
    "kernelspec": {
      "name": "python3",
      "display_name": "Python 3"
    }
  },
  "cells": [
    {
      "cell_type": "markdown",
      "metadata": {
        "id": "view-in-github",
        "colab_type": "text"
      },
      "source": [
        "<a href=\"https://colab.research.google.com/github/ShaheryarEhsan/ML_Labs/blob/main/EuclideanDistance_Lab.ipynb\" target=\"_parent\"><img src=\"https://colab.research.google.com/assets/colab-badge.svg\" alt=\"Open In Colab\"/></a>"
      ]
    },
    {
      "cell_type": "markdown",
      "metadata": {
        "id": "SDvxxO07KgHG"
      },
      "source": [
        "Dataset conversion to CSV"
      ]
    },
    {
      "cell_type": "markdown",
      "metadata": {
        "id": "y3vQyFrNKj2D"
      },
      "source": [
        ""
      ]
    },
    {
      "cell_type": "code",
      "metadata": {
        "id": "wr-4f9IxKX9w",
        "colab": {
          "base_uri": "https://localhost:8080/",
          "height": 363
        },
        "outputId": "ba301237-fc73-4639-e703-2253b87dabf8"
      },
      "source": [
        "def convert(imgf, labelf, outf, n):\n",
        "    f = open(imgf, \"rb\")\n",
        "    o = open(outf, \"w\")\n",
        "    l = open(labelf, \"rb\")\n",
        "\n",
        "    f.read(16)\n",
        "    l.read(8)\n",
        "    images = []\n",
        "\n",
        "    for i in range(n):\n",
        "        image = [ord(l.read(1))]\n",
        "        for j in range(28*28):\n",
        "            image.append(ord(f.read(1)))\n",
        "        images.append(image)\n",
        "\n",
        "    for image in images:\n",
        "        o.write(\",\".join(str(pix) for pix in image)+\"\\n\")\n",
        "    f.close()\n",
        "    o.close()\n",
        "    l.close()\n",
        "\n",
        "convert(\"train-images-idx3-ubyte\", \"train-labels-idx1-ubyte\",\n",
        "        \"mnist_train.csv\", 60000)\n",
        "convert(\"t10k-images-idx3-ubyte\", \"t10k-labels-idx1-ubyte\",\n",
        "        \"mnist_test.csv\", 10000)"
      ],
      "execution_count": null,
      "outputs": [
        {
          "output_type": "error",
          "ename": "TypeError",
          "evalue": "ignored",
          "traceback": [
            "\u001b[0;31m---------------------------------------------------------------------------\u001b[0m",
            "\u001b[0;31mTypeError\u001b[0m                                 Traceback (most recent call last)",
            "\u001b[0;32m<ipython-input-4-257f53a29c99>\u001b[0m in \u001b[0;36m<module>\u001b[0;34m()\u001b[0m\n\u001b[1;32m     21\u001b[0m \u001b[0;34m\u001b[0m\u001b[0m\n\u001b[1;32m     22\u001b[0m convert(\"train-images-idx3-ubyte\", \"train-labels-idx1-ubyte\",\n\u001b[0;32m---> 23\u001b[0;31m         \"mnist_train.csv\", 60000)\n\u001b[0m\u001b[1;32m     24\u001b[0m convert(\"t10k-images-idx3-ubyte\", \"t10k-labels-idx1-ubyte\",\n\u001b[1;32m     25\u001b[0m         \"mnist_test.csv\", 10000)\n",
            "\u001b[0;32m<ipython-input-4-257f53a29c99>\u001b[0m in \u001b[0;36mconvert\u001b[0;34m(imgf, labelf, outf, n)\u001b[0m\n\u001b[1;32m     11\u001b[0m         \u001b[0mimage\u001b[0m \u001b[0;34m=\u001b[0m \u001b[0;34m[\u001b[0m\u001b[0mord\u001b[0m\u001b[0;34m(\u001b[0m\u001b[0ml\u001b[0m\u001b[0;34m.\u001b[0m\u001b[0mread\u001b[0m\u001b[0;34m(\u001b[0m\u001b[0;36m1\u001b[0m\u001b[0;34m)\u001b[0m\u001b[0;34m)\u001b[0m\u001b[0;34m]\u001b[0m\u001b[0;34m\u001b[0m\u001b[0;34m\u001b[0m\u001b[0m\n\u001b[1;32m     12\u001b[0m         \u001b[0;32mfor\u001b[0m \u001b[0mj\u001b[0m \u001b[0;32min\u001b[0m \u001b[0mrange\u001b[0m\u001b[0;34m(\u001b[0m\u001b[0;36m28\u001b[0m\u001b[0;34m*\u001b[0m\u001b[0;36m28\u001b[0m\u001b[0;34m)\u001b[0m\u001b[0;34m:\u001b[0m\u001b[0;34m\u001b[0m\u001b[0;34m\u001b[0m\u001b[0m\n\u001b[0;32m---> 13\u001b[0;31m             \u001b[0mimage\u001b[0m\u001b[0;34m.\u001b[0m\u001b[0mappend\u001b[0m\u001b[0;34m(\u001b[0m\u001b[0mord\u001b[0m\u001b[0;34m(\u001b[0m\u001b[0mf\u001b[0m\u001b[0;34m.\u001b[0m\u001b[0mread\u001b[0m\u001b[0;34m(\u001b[0m\u001b[0;36m1\u001b[0m\u001b[0;34m)\u001b[0m\u001b[0;34m)\u001b[0m\u001b[0;34m)\u001b[0m\u001b[0;34m\u001b[0m\u001b[0;34m\u001b[0m\u001b[0m\n\u001b[0m\u001b[1;32m     14\u001b[0m         \u001b[0mimages\u001b[0m\u001b[0;34m.\u001b[0m\u001b[0mappend\u001b[0m\u001b[0;34m(\u001b[0m\u001b[0mimage\u001b[0m\u001b[0;34m)\u001b[0m\u001b[0;34m\u001b[0m\u001b[0;34m\u001b[0m\u001b[0m\n\u001b[1;32m     15\u001b[0m \u001b[0;34m\u001b[0m\u001b[0m\n",
            "\u001b[0;31mTypeError\u001b[0m: ord() expected a character, but string of length 0 found"
          ]
        }
      ]
    },
    {
      "cell_type": "code",
      "metadata": {
        "id": "TUpxVt4GRS8t"
      },
      "source": [
        "import csv\n",
        "import numpy as np\n",
        "import operator\n",
        "\n",
        "#Function for finding Euclidean Distance\n",
        "def CalculateEuclideanDistance(input_1, input_2, length):\n",
        "    distance = 0\n",
        "    for i in range(length-1):\n",
        "        distance +=(input_1[i] - input_2[i])**2\n",
        "    Euclidean_distance = distance**(1/2)\n",
        "    return Euclidean_distance \n"
      ],
      "execution_count": null,
      "outputs": []
    },
    {
      "cell_type": "code",
      "metadata": {
        "id": "tjeTO6nuJPdP"
      },
      "source": [
        "#Function for finding K neighbours \n",
        "def findNeighbours(final_train_matrix, testInstance, k):\n",
        "    Neighbours_distances = []\n",
        "    for i in range(len(final_train_matrix)):\n",
        "        respective_distance = CalculateEuclideanDistance(testInstance, final_train_matrix[i,1:785],len(testInstance))\n",
        "        \n",
        "        #Contains distance values of test Instance w.r.t all train matrix rows\n",
        "        Neighbours_distances.append((final_train_matrix[i],respective_distance))\n",
        "   \n",
        "    #Sorting Neighbours_distances with ascending order \n",
        "    Neighbours_distances.sort(key=operator.itemgetter(1))\n",
        "   \n",
        "    #Choose first \"K\" distances\n",
        "    Final_neighbors = []\n",
        "    for i in range(k):\n",
        "        Final_neighbors.append(Neighbours_distances[i][0])\n",
        "    return Final_neighbors\n"
      ],
      "execution_count": null,
      "outputs": []
    },
    {
      "cell_type": "code",
      "metadata": {
        "id": "AA2lDeZgJGVv"
      },
      "source": [
        "#Function for selecting best neighbour\n",
        "def findBestNeighbour(find_neighbours):\n",
        "    neighbour_count = {}\n",
        "    #Finding neighbour with maximum occurance\n",
        "    for x in range(len(find_neighbours)):\n",
        "        occurrence =find_neighbours[x][0]\n",
        "        if occurrence in neighbour_count:\n",
        "            neighbour_count[occurrence] += 1\n",
        "        else:\n",
        "            neighbour_count[occurrence] = 1 \n",
        "    #Select neighbour with maximum occurance in \"find_neighbours\" list       \n",
        "    BestNeighbour = sorted(neighbour_count.items(), key=operator.itemgetter(1), reverse=True)\n",
        "    return BestNeighbour[0][0]\n"
      ],
      "execution_count": null,
      "outputs": []
    },
    {
      "cell_type": "code",
      "metadata": {
        "id": "8YMmu0TnJEoh"
      },
      "source": [
        "def main():\n",
        "    \n",
        "    #opening csv file\n",
        "    with open('mnist_train.csv', newline='') as csv_file1:\n",
        "    \n",
        "        train_data_lines = csv.reader(csv_file1)\n",
        "        train_dataset=list(train_data_lines) \n",
        "        \n",
        "        #Converting list into matrix and changing Datatype into int\n",
        "        train_matrix=np.array(train_dataset).astype(\"int\")\n",
        "    \n",
        "    with open('mnist_test.csv', newline='') as csv_file2:\n",
        "    \n",
        "        test_data_lines = csv.reader(csv_file2)\n",
        "        test_dataset=list(test_data_lines)\n",
        "        \n",
        "        #Converting list into matrix and changing Datatype into int\n",
        "        test_matrix=np.array(test_dataset).astype(\"int\")\n",
        "\n",
        "    #prediction list will contain predicted values\n",
        "    predictions=[]     \n",
        "    k=1\n",
        "    for i in range(len(test_dataset)):\n",
        "        #finding \"k\" neighbours\n",
        "        find_neighbours=findNeighbours(train_matrix,test_matrix[i],k)\n",
        "        \n",
        "        #choosing best neighbour among K neighbours\n",
        "        result = findBestNeighbour(find_neighbours)\n",
        "        \n",
        "        predictions.append(result)\n",
        "        print('Actual Number is:' + repr(test_matrix[i,0])+' Predicted Number is:' + repr(result))\n",
        "    \n",
        "    #Finding the accuracy\n",
        "    true_postives=0\n",
        "    for i in range(len(test_matrix)):\n",
        "  \t\t#finding pairs of numbers which satisfies condition Predicted Number=Actual Number \t\n",
        "    \tif test_matrix[i][0]==predictions[i]:\n",
        "    \t\ttrue_postives+=1\n",
        "    \n",
        "    #accuracy= (true_positives/total Number of test examples)*100\n",
        "    accuracy=(true_postives/float(len(test_matrix))) * 100.0\n",
        "    print('Accuracy: ' + repr(accuracy) + '%')\n",
        "           \n",
        "main()\n"
      ],
      "execution_count": null,
      "outputs": []
    }
  ]
}