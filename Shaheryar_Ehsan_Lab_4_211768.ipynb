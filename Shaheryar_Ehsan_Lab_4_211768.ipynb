{
  "nbformat": 4,
  "nbformat_minor": 0,
  "metadata": {
    "colab": {
      "name": "Shaheryar Ehsan Lab 4 211768.ipynb",
      "provenance": [],
      "include_colab_link": true
    },
    "kernelspec": {
      "name": "python2",
      "display_name": "Python 2"
    }
  },
  "cells": [
    {
      "cell_type": "markdown",
      "metadata": {
        "id": "view-in-github",
        "colab_type": "text"
      },
      "source": [
        "<a href=\"https://colab.research.google.com/github/ShaheryarEhsan/ML_Labs/blob/main/Shaheryar_Ehsan_Lab_4_211768.ipynb\" target=\"_parent\"><img src=\"https://colab.research.google.com/assets/colab-badge.svg\" alt=\"Open In Colab\"/></a>"
      ]
    },
    {
      "cell_type": "markdown",
      "metadata": {
        "id": "NVmOC9cqIUWk"
      },
      "source": [
        "**TASK 1**"
      ]
    },
    {
      "cell_type": "code",
      "metadata": {
        "id": "2Lnll9pLwxiI",
        "colab": {
          "base_uri": "https://localhost:8080/",
          "height": 102
        },
        "outputId": "d79081ee-cbfe-4257-ccb7-e8ea6a7d6649"
      },
      "source": [
        "import numpy as np\n",
        "\n",
        "# sigmoid function\n",
        "def nonlin(x,deriv=False):\n",
        "    if(deriv==True):\n",
        "        return x*(1-x)\n",
        "    return 1/(1+np.exp(-x))\n",
        "    \n",
        "# input dataset\n",
        "X = np.array([  [0,0,1],\n",
        "                [0,1,1],\n",
        "                [1,0,1],\n",
        "                [1,1,1] ])\n",
        "    \n",
        "# output dataset            \n",
        "y = np.array([[0,0,1,1]]).T\n",
        "\n",
        "# seed random numbers to make calculation\n",
        "# deterministic (just a good practice)\n",
        "np.random.seed(1)\n",
        "\n",
        "# initialize weights randomly with mean 0\n",
        "syn0 = 2*np.random.random((3,1)) - 1\n",
        "\n",
        "for iter in xrange(10000):\n",
        "\n",
        "    # forward propagation\n",
        "    l0 = X\n",
        "    l1 = nonlin(np.dot(l0,syn0))\n",
        "\n",
        "    # how much did we miss?\n",
        "    l1_error = y - l1\n",
        "\n",
        "    # multiply how much we missed by the \n",
        "    # slope of the sigmoid at the values in l1\n",
        "    l1_delta = l1_error * nonlin(l1,True)\n",
        "\n",
        "    # update weights\n",
        "    syn0 += np.dot(l0.T,l1_delta)\n",
        "\n",
        "print(\"Output After Training:\")\n",
        "print(l1)\n",
        "\n"
      ],
      "execution_count": null,
      "outputs": [
        {
          "output_type": "stream",
          "text": [
            "Output After Training:\n",
            "[[0.00966449]\n",
            " [0.00786506]\n",
            " [0.99358898]\n",
            " [0.99211957]]\n"
          ],
          "name": "stdout"
        }
      ]
    },
    {
      "cell_type": "markdown",
      "metadata": {
        "id": "9-7QHdMqFNTv"
      },
      "source": [
        "**TASK 2**"
      ]
    },
    {
      "cell_type": "markdown",
      "metadata": {
        "id": "8zh-95gEFV13"
      },
      "source": [
        "3 layers (l1= 4 nodes)"
      ]
    },
    {
      "cell_type": "code",
      "metadata": {
        "id": "XZsp1kMc9IAn",
        "colab": {
          "base_uri": "https://localhost:8080/",
          "height": 85
        },
        "outputId": "0985760a-d604-452b-8a2d-fba2e2f6201a"
      },
      "source": [
        "import numpy as np\n",
        "\n",
        "def nonlin(x,deriv=False):\n",
        "\tif(deriv==True):\n",
        "\t    return x*(1-x)\n",
        "\n",
        "\treturn 1/(1+np.exp(-x))\n",
        "    \n",
        "X = np.array([[0,0,1],\n",
        "            [0,1,1],\n",
        "            [1,0,1],\n",
        "            [1,1,1]])\n",
        "                \n",
        "y = np.array([[0],\n",
        "\t\t\t[1],\n",
        "\t\t\t[1],\n",
        "\t\t\t[0]])\n",
        "\n",
        "np.random.seed(1)\n",
        "\n",
        "# randomly initialize our weights with mean 0\n",
        "syn0 = 2*np.random.random((3,4)) - 1\n",
        "syn1 = 2*np.random.random((4,1)) - 1\n",
        "\n",
        "for j in xrange(60000):\n",
        "\n",
        "\t# Feed forward through layers 0, 1, and 2\n",
        "    l0 = X\n",
        "    l1 = nonlin(np.dot(l0,syn0))\n",
        "    l2 = nonlin(np.dot(l1,syn1))\n",
        "\n",
        "    l2_error = y - l2\n",
        "        \n",
        "    l2_delta = l2_error*nonlin(l2,deriv=True)\n",
        "\n",
        "    l1_error = l2_delta.dot(syn1.T)\n",
        "   \n",
        "    l1_delta = l1_error * nonlin(l1,deriv=True)\n",
        "\n",
        "    syn1 += l1.T.dot(l2_delta)\n",
        "    syn0 += l0.T.dot(l1_delta)\n",
        "print(l2)\n"
      ],
      "execution_count": null,
      "outputs": [
        {
          "output_type": "stream",
          "text": [
            "[[0.00260572]\n",
            " [0.99672209]\n",
            " [0.99701711]\n",
            " [0.00386759]]\n"
          ],
          "name": "stdout"
        }
      ]
    },
    {
      "cell_type": "markdown",
      "metadata": {
        "id": "fkeFUeiTFadf"
      },
      "source": [
        "4 layers(l2=4 nodes)"
      ]
    },
    {
      "cell_type": "code",
      "metadata": {
        "id": "uLd0WIsnxRPS",
        "colab": {
          "base_uri": "https://localhost:8080/",
          "height": 85
        },
        "outputId": "819bac02-2357-4c01-b477-e4fac24cda88"
      },
      "source": [
        "import numpy as np\n",
        "\n",
        "def nonlin(x,deriv=False):\n",
        "\tif(deriv==True):\n",
        "\t    return x*(1-x)\n",
        "\n",
        "\treturn 1/(1+np.exp(-x))\n",
        "    \n",
        "X = np.array([[0,0,1],\n",
        "            [0,1,1],\n",
        "            [1,0,1],\n",
        "            [1,1,1]])\n",
        "                \n",
        "y = np.array([[0],\n",
        "\t\t\t[1],\n",
        "\t\t\t[1],\n",
        "\t\t\t[0]])\n",
        "\n",
        "np.random.seed(1)\n",
        "\n",
        "# randomly initialize our weights with mean 0\n",
        "syn0 = 2*np.random.random((3,4)) - 1\n",
        "syn1 = 2*np.random.random((4,4)) - 1\n",
        "syn2 = 2*np.random.random((4,1)) - 1\n",
        "\n",
        "for j in xrange(60000):\n",
        "\n",
        "\t# Feed forward through layers 0, 1, and 2\n",
        "    l0 = X\n",
        "    l1 = nonlin(np.dot(l0,syn0))\n",
        "    l2 = nonlin(np.dot(l1,syn1))\n",
        "    l3 = nonlin(np.dot(l2,syn2))\n",
        "    l3_error = y-l3\n",
        "    l3_delta = l3_error*nonlin(l3,deriv=True)\n",
        "    l2_error = l3_delta.dot(syn2.T)\n",
        "    l2_delta = l2_error * nonlin(l2,deriv=True)\n",
        "    l1_error = l2_delta.dot(syn1.T)\n",
        "    l1_delta = l1_error * nonlin(l1,deriv=True)\n",
        "    syn2 += l2.T.dot(l3_delta)\n",
        "    syn1 += l1.T.dot(l2_delta)\n",
        "    syn0 += l0.T.dot(l1_delta)\n",
        "print l3"
      ],
      "execution_count": null,
      "outputs": [
        {
          "output_type": "stream",
          "text": [
            "[[0.00201363]\n",
            " [0.99655005]\n",
            " [0.99732339]\n",
            " [0.00366437]]\n"
          ],
          "name": "stdout"
        }
      ]
    },
    {
      "cell_type": "markdown",
      "metadata": {
        "id": "9nN8EjwlJamc"
      },
      "source": [
        "**TASK 3**"
      ]
    },
    {
      "cell_type": "code",
      "metadata": {
        "id": "UqOwCFMSJcYF",
        "colab": {
          "base_uri": "https://localhost:8080/",
          "height": 238
        },
        "outputId": "75f6b5c0-4a1d-4053-d52c-ede0ea6232fa"
      },
      "source": [
        "import numpy as np\n",
        "\n",
        "def nonlin(x,deriv=False):\n",
        "    if(deriv==True):\n",
        "        return x*(1-x)\n",
        "    return 1/(1+np.exp(-x))\n",
        "    \n",
        "X = np.array([[0,0,1],\n",
        "            [0,1,1],\n",
        "            [1,0,1],\n",
        "            [1,1,1]])\n",
        "                \n",
        "y = np.array([[0],\n",
        "[1],\n",
        "[1],\n",
        "[0]])\n",
        "\n",
        "np.random.seed(1)\n",
        "\n",
        "# randomly initialize our weights with mean 0\n",
        "syn0 = 2*np.random.random((3,2)) - 1\n",
        "syn1 = 2*np.random.random((2,2)) - 1\n",
        "\n",
        "for j in range(60000):\n",
        "\n",
        "  # Feed forward through layers 0, 1, and 2\n",
        "    l0 = X\n",
        "    l1 = nonlin(np.dot(l0,syn0))\n",
        "    l2 = nonlin(np.dot(l1,syn1))\n",
        "\n",
        "    # how much did we miss the target value?\n",
        "    l2_error = y - l2\n",
        "    \n",
        "    l2_delta = l2_error*nonlin(l2,deriv=True)\n",
        "\n",
        "    l1_error = l2_delta.dot(syn1.T)\n",
        "\n",
        "    l1_delta = l1_error * nonlin(l1,deriv=True)\n",
        "\n",
        "    syn1 += l1.T.dot(l2_delta)\n",
        "    syn0 += l0.T.dot(l1_delta)\n",
        "print (\"Output After Training:\")\n",
        "print (l1)\n",
        "print (l2)\n",
        "print (l3)"
      ],
      "execution_count": null,
      "outputs": [
        {
          "output_type": "stream",
          "text": [
            "Output After Training:\n",
            "[[8.33610359e-01 5.25471399e-02]\n",
            " [1.06741554e-05 1.27182150e-07]\n",
            " [1.33587639e-02 8.36787930e-01]\n",
            " [2.88475102e-08 1.17568987e-05]]\n",
            "[[0.00339762 0.00339773]\n",
            " [0.49998088 0.49998088]\n",
            " [0.99636145 0.9963614 ]\n",
            " [0.50002    0.50002   ]]\n",
            "[[-0.43528658]\n",
            " [-0.64620083]\n",
            " [-0.73916661]\n",
            " [ 0.02935772]]\n"
          ],
          "name": "stdout"
        }
      ]
    },
    {
      "cell_type": "markdown",
      "metadata": {
        "id": "iQ5a58V9Fh-f"
      },
      "source": [
        "**TASK 4**"
      ]
    },
    {
      "cell_type": "markdown",
      "metadata": {
        "id": "fMcXfLLgFlvX"
      },
      "source": [
        "2 Layers\n"
      ]
    },
    {
      "cell_type": "code",
      "metadata": {
        "id": "YqSDkFj99f4H",
        "colab": {
          "base_uri": "https://localhost:8080/",
          "height": 102
        },
        "outputId": "87817914-c9b5-41e3-d9fd-83cbc7959da2"
      },
      "source": [
        "import numpy as np\n",
        "\n",
        "# sigmoid function\n",
        "def nonlin(x,deriv=False):\n",
        "    if(deriv==True):\n",
        "        return np.cos(x)\n",
        "    return np.sin(x)\n",
        "    \n",
        "# input dataset\n",
        "X = np.array([  [0,0,1],\n",
        "                [0,1,1],\n",
        "                [1,0,1],\n",
        "                [1,1,1] ])\n",
        "    \n",
        "# output dataset            \n",
        "y = np.array([[1,1,0,0]]).T\n",
        "\n",
        "# seed random numbers to make calculation\n",
        "# deterministic (just a good practice)\n",
        "np.random.seed(1)\n",
        "\n",
        "# initialize weights randomly with mean 0\n",
        "syn0 = 2*np.random.random((3,1)) - 1\n",
        "\n",
        "for iter in xrange(10000):\n",
        "\n",
        "    # forward propagation\n",
        "    l0 = X\n",
        "    l1 = nonlin(np.dot(l0,syn0))\n",
        "\n",
        "    # how much did we miss?\n",
        "    l1_error = y - l1\n",
        "\n",
        "    # multiply how much we missed by the \n",
        "    # slope of the sigmoid at the values in l1\n",
        "    l1_delta = l1_error * nonlin(l1,True)\n",
        "\n",
        "    # update weights\n",
        "    syn0 += np.dot(l0.T,l1_delta)\n",
        "\n",
        "print \"Output After Training:\"\n",
        "print l1\n"
      ],
      "execution_count": null,
      "outputs": [
        {
          "output_type": "stream",
          "text": [
            "Output After Training:\n",
            "[[-0.96204132]\n",
            " [-0.80584827]\n",
            " [ 0.95842855]\n",
            " [ 0.99769391]]\n"
          ],
          "name": "stdout"
        }
      ]
    },
    {
      "cell_type": "markdown",
      "metadata": {
        "id": "kThaSTKTFpeH"
      },
      "source": [
        "3 layers"
      ]
    },
    {
      "cell_type": "code",
      "metadata": {
        "id": "PyuucqF5FIBg",
        "colab": {
          "base_uri": "https://localhost:8080/",
          "height": 85
        },
        "outputId": "ade749fa-c875-4006-bb9d-523b2c1c7c50"
      },
      "source": [
        "import numpy as np\n",
        "\n",
        "def nonlin(x,deriv=False):\n",
        "\tif(deriv==True):\n",
        "\t    return np.cos(x)\n",
        "\n",
        "\treturn np.sin(x)\n",
        "    \n",
        "X = np.array([[0,0,1],\n",
        "            [0,1,1],\n",
        "            [1,0,1],\n",
        "            [1,1,1]])\n",
        "                \n",
        "y = np.array([[1,1,0,0]]).T\n",
        "\n",
        "np.random.seed(1)\n",
        "\n",
        "# randomly initialize our weights with mean 0\n",
        "syn0 = 2*np.random.random((3,4)) - 1\n",
        "syn1 = 2*np.random.random((4,1)) - 1\n",
        "\n",
        "for j in xrange(60000):\n",
        "\n",
        "\t# Feed forward through layers 0, 1, and 2\n",
        "    l0 = X\n",
        "    l1 = nonlin(np.dot(l0,syn0))\n",
        "    l2 = nonlin(np.dot(l1,syn1))\n",
        "\n",
        "    l2_error = y - l2\n",
        "        \n",
        "    l2_delta = l2_error*nonlin(l2,deriv=True)\n",
        "\n",
        "    l1_error = l2_delta.dot(syn1.T)\n",
        "   \n",
        "    l1_delta = l1_error * nonlin(l1,deriv=True)\n",
        "\n",
        "    syn1 += l1.T.dot(l2_delta)\n",
        "    syn0 += l0.T.dot(l1_delta)\n",
        "print l2\n"
      ],
      "execution_count": null,
      "outputs": [
        {
          "output_type": "stream",
          "text": [
            "[[ 0.66871473]\n",
            " [-0.50358195]\n",
            " [-0.71568787]\n",
            " [ 0.62652861]]\n"
          ],
          "name": "stdout"
        }
      ]
    },
    {
      "cell_type": "markdown",
      "metadata": {
        "id": "bDz309ZoFu13"
      },
      "source": [
        "4 layers"
      ]
    },
    {
      "cell_type": "code",
      "metadata": {
        "id": "hZtVnRxvE8o_",
        "colab": {
          "base_uri": "https://localhost:8080/",
          "height": 85
        },
        "outputId": "086a9828-41ed-4aa2-cfdf-6a7ac4f95e91"
      },
      "source": [
        "import numpy as np\n",
        "\n",
        "def nonlin(x,deriv=False):\n",
        "\tif(deriv==True):\n",
        "\t    return np.cos(x)\n",
        "\n",
        "\treturn np.sin(x)\n",
        "    \n",
        "X = np.array([[0,0,1],\n",
        "            [0,1,1],\n",
        "            [1,0,1],\n",
        "            [1,1,1]])\n",
        "y = np.array([[1,1,0,0]]).T\n",
        "\n",
        "np.random.seed(1)\n",
        "\n",
        "# randomly initialize our weights with mean 0\n",
        "syn0 = 2*np.random.random((3,4)) - 1\n",
        "syn1 = 2*np.random.random((4,4)) - 1\n",
        "syn2 = 2*np.random.random((4,1)) - 1\n",
        "\n",
        "for j in xrange(60000):\n",
        "\n",
        "\t# Feed forward through layers 0, 1, and 2\n",
        "    l0 = X\n",
        "    l1 = nonlin(np.dot(l0,syn0))\n",
        "    l2 = nonlin(np.dot(l1,syn1))\n",
        "    l3 = nonlin(np.dot(l2,syn2))\n",
        "    l3_error = y-l3\n",
        "    l3_delta = l3_error*nonlin(l3,deriv=True)\n",
        "    l2_error = l3_delta.dot(syn2.T)\n",
        "    l2_delta = l2_error * nonlin(l2,deriv=True)\n",
        "    l1_error = l2_delta.dot(syn1.T)\n",
        "    l1_delta = l1_error * nonlin(l1,deriv=True)\n",
        "    syn2 += l2.T.dot(l3_delta)\n",
        "    syn1 += l1.T.dot(l2_delta)\n",
        "    syn0 += l0.T.dot(l1_delta)\n",
        "print l3"
      ],
      "execution_count": null,
      "outputs": [
        {
          "output_type": "stream",
          "text": [
            "[[-0.43528658]\n",
            " [-0.64620083]\n",
            " [-0.73916661]\n",
            " [ 0.02935772]]\n"
          ],
          "name": "stdout"
        }
      ]
    }
  ]
}