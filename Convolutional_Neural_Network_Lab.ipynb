{
  "nbformat": 4,
  "nbformat_minor": 0,
  "metadata": {
    "colab": {
      "name": "Convolutional_Neural_Network_Lab.ipynb",
      "provenance": [],
      "authorship_tag": "ABX9TyNQU9ksrDiw2AohjC2tlsD1",
      "include_colab_link": true
    },
    "kernelspec": {
      "name": "python3",
      "display_name": "Python 3"
    }
  },
  "cells": [
    {
      "cell_type": "markdown",
      "metadata": {
        "id": "view-in-github",
        "colab_type": "text"
      },
      "source": [
        "<a href=\"https://colab.research.google.com/github/ShaheryarEhsan/ML_Labs/blob/main/Convolutional_Neural_Network_Lab.ipynb\" target=\"_parent\"><img src=\"https://colab.research.google.com/assets/colab-badge.svg\" alt=\"Open In Colab\"/></a>"
      ]
    },
    {
      "cell_type": "code",
      "metadata": {
        "id": "5BhnF4Y6LunW",
        "colab": {
          "base_uri": "https://localhost:8080/",
          "height": 105
        },
        "outputId": "4250974d-6340-4217-9aa5-3083aa4193b1"
      },
      "source": [
        "!pip install torchvision"
      ],
      "execution_count": null,
      "outputs": [
        {
          "output_type": "stream",
          "text": [
            "Requirement already satisfied: torchvision in /usr/local/lib/python3.6/dist-packages (0.5.0)\n",
            "Requirement already satisfied: pillow>=4.1.1 in /usr/local/lib/python3.6/dist-packages (from torchvision) (7.0.0)\n",
            "Requirement already satisfied: six in /usr/local/lib/python3.6/dist-packages (from torchvision) (1.12.0)\n",
            "Requirement already satisfied: torch==1.4.0 in /usr/local/lib/python3.6/dist-packages (from torchvision) (1.4.0)\n",
            "Requirement already satisfied: numpy in /usr/local/lib/python3.6/dist-packages (from torchvision) (1.18.2)\n"
          ],
          "name": "stdout"
        }
      ]
    },
    {
      "cell_type": "code",
      "metadata": {
        "id": "GG4U1Ti9QrBu"
      },
      "source": [
        "import numpy as np\n",
        "import math\n",
        "from sklearn.metrics.pairwise import cosine_similarity\n",
        "from sklearn.metrics import accuracy_score\n",
        "from collections import Counter\n",
        "import matplotlib.pyplot as plt\n",
        "import torch\n",
        "import torchvision\n",
        "import time\n",
        "import torch.nn as nn\n",
        "import torch.nn.functional as F\n",
        "import torch.optim as optim"
      ],
      "execution_count": null,
      "outputs": []
    },
    {
      "cell_type": "markdown",
      "metadata": {
        "id": "uJw7XE6QRWlD"
      },
      "source": [
        "We will define the size of the batch and the number of times the algorithm will go over the dataset."
      ]
    },
    {
      "cell_type": "code",
      "metadata": {
        "id": "lDKZswtdPj90",
        "colab": {
          "base_uri": "https://localhost:8080/",
          "height": 34
        },
        "outputId": "be233adb-23b9-4513-f923-e5dbc9a3555f"
      },
      "source": [
        "n_epochs = 5\n",
        "batch_size_train = 128\n",
        "batch_size_test = 2000\n",
        "learning_rate = 0.01\n",
        "momentum = 0.5\n",
        "log_interval = 10\n",
        "\n",
        "random_seed = 1\n",
        "torch.backends.cudnn.enabled = False\n",
        "torch.manual_seed(random_seed)\n"
      ],
      "execution_count": null,
      "outputs": [
        {
          "output_type": "execute_result",
          "data": {
            "text/plain": [
              "<torch._C.Generator at 0x7fb9b4e67370>"
            ]
          },
          "metadata": {
            "tags": []
          },
          "execution_count": 40
        }
      ]
    },
    {
      "cell_type": "markdown",
      "metadata": {
        "id": "wP8G4eR5RiwS"
      },
      "source": [
        ""
      ]
    },
    {
      "cell_type": "code",
      "metadata": {
        "id": "Pdi7AgXsRjJp"
      },
      "source": [
        "train_loader = torch.utils.data.DataLoader(\n",
        "  torchvision.datasets.MNIST('/files/', train=True, download=True,\n",
        "                             transform=torchvision.transforms.Compose([\n",
        "                               torchvision.transforms.ToTensor(),\n",
        "                               torchvision.transforms.Normalize(\n",
        "                                 (0.1307,), (0.3081,))\n",
        "                             ])),\n",
        "  batch_size=batch_size_train, shuffle=True)\n",
        "\n",
        "test_loader = torch.utils.data.DataLoader(\n",
        "  torchvision.datasets.MNIST('/files/', train=False, download=True,\n",
        "                             transform=torchvision.transforms.Compose([\n",
        "                               torchvision.transforms.ToTensor(),\n",
        "                               torchvision.transforms.Normalize(\n",
        "                                 (0.1307,), (0.3081,))\n",
        "                             ])),\n",
        "  batch_size=batch_size_test, shuffle=True)"
      ],
      "execution_count": null,
      "outputs": []
    },
    {
      "cell_type": "markdown",
      "metadata": {
        "id": "UbZQV--1V-8z"
      },
      "source": [
        "Loading certain samples"
      ]
    },
    {
      "cell_type": "code",
      "metadata": {
        "id": "b7BGznThV6Z3"
      },
      "source": [
        "examples = enumerate(test_loader)\n",
        "batch_idx, (example_data, example_targets) = next(examples)"
      ],
      "execution_count": null,
      "outputs": []
    },
    {
      "cell_type": "markdown",
      "metadata": {
        "id": "udQRS3wOWA7V"
      },
      "source": [
        "What does an example look like?"
      ]
    },
    {
      "cell_type": "code",
      "metadata": {
        "id": "A0QQXUs9WDks",
        "colab": {
          "base_uri": "https://localhost:8080/",
          "height": 34
        },
        "outputId": "dadef4e7-206f-445c-c466-0228296f592f"
      },
      "source": [
        "example_data.shape"
      ],
      "execution_count": null,
      "outputs": [
        {
          "output_type": "execute_result",
          "data": {
            "text/plain": [
              "torch.Size([2000, 1, 28, 28])"
            ]
          },
          "metadata": {
            "tags": []
          },
          "execution_count": 44
        }
      ]
    },
    {
      "cell_type": "code",
      "metadata": {
        "id": "VKrIfbMzWnPi",
        "colab": {
          "base_uri": "https://localhost:8080/",
          "height": 551
        },
        "outputId": "762666fc-55ac-4198-c11f-cccc081d75ef"
      },
      "source": [
        "fig = plt.figure()\n",
        "for i in range(6):\n",
        "  plt.subplot(2,3,i+1)\n",
        "  plt.tight_layout()\n",
        "  plt.imshow(example_data[i][0], cmap='gray', interpolation='none')\n",
        "  plt.title(\"Ground Truth: {}\".format(example_targets[i]))\n",
        "  plt.xticks([])\n",
        "  plt.yticks([])\n",
        "fig"
      ],
      "execution_count": null,
      "outputs": [
        {
          "output_type": "execute_result",
          "data": {
            "image/png": "[encoded data removed]",
            "text/plain": [
              "<Figure size 432x288 with 6 Axes>"
            ]
          },
          "metadata": {
            "tags": []
          },
          "execution_count": 45
        },
        {
          "output_type": "display_data",
          "data": {
            "image/png": "[encoded data removed]",
            "text/plain": [
              "<Figure size 432x288 with 6 Axes>"
            ]
          },
          "metadata": {
            "tags": []
          }
        }
      ]
    },
    {
      "cell_type": "markdown",
      "metadata": {
        "id": "vMciH7BLXZkr"
      },
      "source": [
        "Creating a Convolutional Neural Network"
      ]
    },
    {
      "cell_type": "code",
      "metadata": {
        "id": "m15RQXcdXcqp"
      },
      "source": [
        "class Net(nn.Module):\n",
        "    def __init__(self):\n",
        "        super(Net, self).__init__()\n",
        "        self.conv1 = nn.Conv2d(1, 10, kernel_size=5)\n",
        "        self.conv2 = nn.Conv2d(10, 20, kernel_size=5)\n",
        "        self.conv2_drop = nn.Dropout2d()\n",
        "        self.fc1 = nn.Linear(320, 50)\n",
        "        self.fc2 = nn.Linear(50, 10)\n",
        "\n",
        "    def forward(self, x):\n",
        "        x = F.relu(F.max_pool2d(self.conv1(x), 2))\n",
        "        x = F.relu(F.max_pool2d(self.conv2_drop(self.conv2(x)), 2))\n",
        "        x = x.view(-1, 320)\n",
        "        x = F.relu(self.fc1(x))\n",
        "        x = F.dropout(x, training=self.training)\n",
        "        x = self.fc2(x)\n",
        "        return F.log_softmax(x)"
      ],
      "execution_count": null,
      "outputs": []
    },
    {
      "cell_type": "markdown",
      "metadata": {
        "id": "YSVu-nyvXim4"
      },
      "source": [
        "Initializing the network and optimizer"
      ]
    },
    {
      "cell_type": "code",
      "metadata": {
        "id": "SjuLrRQEXiVP"
      },
      "source": [
        "network = Net()\n",
        "optimizer = optim.SGD(network.parameters(), lr=learning_rate,\n",
        "                      momentum=momentum)"
      ],
      "execution_count": null,
      "outputs": []
    },
    {
      "cell_type": "markdown",
      "metadata": {
        "id": "Z6q61DA4ZBVL"
      },
      "source": [
        "Training the Network"
      ]
    },
    {
      "cell_type": "code",
      "metadata": {
        "id": "udHriEjDZBFu"
      },
      "source": [
        "train_losses = []\n",
        "train_counter = []\n",
        "test_losses = []\n",
        "test_counter = [i*len(train_loader.dataset) for i in range(n_epochs + 1)]"
      ],
      "execution_count": null,
      "outputs": []
    },
    {
      "cell_type": "markdown",
      "metadata": {
        "id": "cMTyhLPOZJJa"
      },
      "source": [
        "Training Function"
      ]
    },
    {
      "cell_type": "code",
      "metadata": {
        "id": "rBzv0Tr9ZFv7"
      },
      "source": [
        "def train(epoch):\n",
        "  network.train()\n",
        "  for batch_idx, (data, target) in enumerate(train_loader):\n",
        "    optimizer.zero_grad()\n",
        "    output = network(data)\n",
        "    loss = F.nll_loss(output, target)\n",
        "    loss.backward()\n",
        "    optimizer.step()\n",
        "    if batch_idx % log_interval == 0:\n",
        "      print('Train Epoch: {} [{}/{} ({:.0f}%)]\\tLoss: {:.6f}'.format(\n",
        "        epoch, batch_idx * len(data), len(train_loader.dataset),\n",
        "        100. * batch_idx / len(train_loader), loss.item()))\n",
        "      train_losses.append(loss.item())\n",
        "      train_counter.append(\n",
        "        (batch_idx*64) + ((epoch-1)*len(train_loader.dataset)))\n",
        "      torch.save(network.state_dict(), 'model.pth')\n",
        "      torch.save(optimizer.state_dict(), 'optimizer.pth')"
      ],
      "execution_count": null,
      "outputs": []
    },
    {
      "cell_type": "markdown",
      "metadata": {
        "id": "aSTGPGMdZnHw"
      },
      "source": [
        "Testing Function"
      ]
    },
    {
      "cell_type": "code",
      "metadata": {
        "id": "mwBIIpfhZoaI"
      },
      "source": [
        "def test():\n",
        "  network.eval()\n",
        "  test_loss = 0\n",
        "  correct = 0\n",
        "  with torch.no_grad():\n",
        "    for data, target in test_loader:\n",
        "      output = network(data)\n",
        "      test_loss += F.nll_loss(output, target, size_average=False).item()\n",
        "      pred = output.data.max(1, keepdim=True)[1]\n",
        "      correct += pred.eq(target.data.view_as(pred)).sum()\n",
        "  test_loss /= len(test_loader.dataset)\n",
        "  test_losses.append(test_loss)\n",
        "  print('\\nTest set: Avg. loss: {:.4f}, Accuracy: {}/{} ({:.0f}%)\\n'.format(\n",
        "    test_loss, correct, len(test_loader.dataset),\n",
        "    100. * correct / len(test_loader.dataset)))"
      ],
      "execution_count": null,
      "outputs": []
    },
    {
      "cell_type": "markdown",
      "metadata": {
        "id": "qeC9mJ0nZaXx"
      },
      "source": [
        "Training"
      ]
    },
    {
      "cell_type": "code",
      "metadata": {
        "id": "fX5TR7yIZZpj",
        "colab": {
          "base_uri": "https://localhost:8080/",
          "height": 1000
        },
        "outputId": "f7da7667-38c6-49a0-e1a5-d828f9a39835"
      },
      "source": [
        "test()\n",
        "for epoch in range(1, n_epochs + 1):\n",
        "  train(epoch)\n",
        "  test()"
      ],
      "execution_count": null,
      "outputs": [
        {
          "output_type": "stream",
          "text": [
            "/usr/local/lib/python3.6/dist-packages/ipykernel_launcher.py:17: UserWarning: Implicit dimension choice for log_softmax has been deprecated. Change the call to include dim=X as an argument.\n",
            "/usr/local/lib/python3.6/dist-packages/torch/nn/_reduction.py:43: UserWarning: size_average and reduce args will be deprecated, please use reduction='sum' instead.\n",
            "  warnings.warn(warning.format(ret))\n"
          ],
          "name": "stderr"
        },
        {
          "output_type": "stream",
          "text": [
            "\n",
            "Test set: Avg. loss: 2.3039, Accuracy: 993/10000 (10%)\n",
            "\n",
            "Train Epoch: 1 [0/60000 (0%)]\tLoss: 2.319622\n",
            "Train Epoch: 1 [1280/60000 (2%)]\tLoss: 2.297673\n",
            "Train Epoch: 1 [2560/60000 (4%)]\tLoss: 2.310723\n",
            "Train Epoch: 1 [3840/60000 (6%)]\tLoss: 2.278937\n",
            "Train Epoch: 1 [5120/60000 (9%)]\tLoss: 2.289087\n",
            "Train Epoch: 1 [6400/60000 (11%)]\tLoss: 2.258600\n",
            "Train Epoch: 1 [7680/60000 (13%)]\tLoss: 2.233088\n",
            "Train Epoch: 1 [8960/60000 (15%)]\tLoss: 2.224965\n",
            "Train Epoch: 1 [10240/60000 (17%)]\tLoss: 2.192059\n",
            "Train Epoch: 1 [11520/60000 (19%)]\tLoss: 2.155639\n",
            "Train Epoch: 1 [12800/60000 (21%)]\tLoss: 2.134820\n",
            "Train Epoch: 1 [14080/60000 (23%)]\tLoss: 2.060236\n",
            "Train Epoch: 1 [15360/60000 (26%)]\tLoss: 2.034682\n",
            "Train Epoch: 1 [16640/60000 (28%)]\tLoss: 1.898158\n",
            "Train Epoch: 1 [17920/60000 (30%)]\tLoss: 1.824237\n",
            "Train Epoch: 1 [19200/60000 (32%)]\tLoss: 1.799909\n",
            "Train Epoch: 1 [20480/60000 (34%)]\tLoss: 1.649823\n",
            "Train Epoch: 1 [21760/60000 (36%)]\tLoss: 1.515778\n",
            "Train Epoch: 1 [23040/60000 (38%)]\tLoss: 1.565687\n",
            "Train Epoch: 1 [24320/60000 (41%)]\tLoss: 1.305115\n",
            "Train Epoch: 1 [25600/60000 (43%)]\tLoss: 1.281990\n",
            "Train Epoch: 1 [26880/60000 (45%)]\tLoss: 1.148110\n",
            "Train Epoch: 1 [28160/60000 (47%)]\tLoss: 1.187725\n",
            "Train Epoch: 1 [29440/60000 (49%)]\tLoss: 1.025789\n",
            "Train Epoch: 1 [30720/60000 (51%)]\tLoss: 1.109567\n",
            "Train Epoch: 1 [32000/60000 (53%)]\tLoss: 0.961282\n",
            "Train Epoch: 1 [33280/60000 (55%)]\tLoss: 1.030561\n",
            "Train Epoch: 1 [34560/60000 (58%)]\tLoss: 0.847428\n",
            "Train Epoch: 1 [35840/60000 (60%)]\tLoss: 0.820295\n",
            "Train Epoch: 1 [37120/60000 (62%)]\tLoss: 0.856533\n",
            "Train Epoch: 1 [38400/60000 (64%)]\tLoss: 0.712042\n",
            "Train Epoch: 1 [39680/60000 (66%)]\tLoss: 0.919182\n",
            "Train Epoch: 1 [40960/60000 (68%)]\tLoss: 0.661197\n",
            "Train Epoch: 1 [42240/60000 (70%)]\tLoss: 0.733681\n",
            "Train Epoch: 1 [43520/60000 (72%)]\tLoss: 0.877940\n",
            "Train Epoch: 1 [44800/60000 (75%)]\tLoss: 0.904915\n",
            "Train Epoch: 1 [46080/60000 (77%)]\tLoss: 0.647897\n",
            "Train Epoch: 1 [47360/60000 (79%)]\tLoss: 0.821373\n",
            "Train Epoch: 1 [48640/60000 (81%)]\tLoss: 0.725137\n",
            "Train Epoch: 1 [49920/60000 (83%)]\tLoss: 0.715540\n",
            "Train Epoch: 1 [51200/60000 (85%)]\tLoss: 0.733502\n",
            "Train Epoch: 1 [52480/60000 (87%)]\tLoss: 0.601008\n",
            "Train Epoch: 1 [53760/60000 (90%)]\tLoss: 0.742737\n",
            "Train Epoch: 1 [55040/60000 (92%)]\tLoss: 0.704185\n",
            "Train Epoch: 1 [56320/60000 (94%)]\tLoss: 0.512430\n",
            "Train Epoch: 1 [57600/60000 (96%)]\tLoss: 0.598451\n",
            "Train Epoch: 1 [58880/60000 (98%)]\tLoss: 0.588174\n",
            "\n",
            "Test set: Avg. loss: 0.2715, Accuracy: 9274/10000 (93%)\n",
            "\n",
            "Train Epoch: 2 [0/60000 (0%)]\tLoss: 0.616792\n",
            "Train Epoch: 2 [1280/60000 (2%)]\tLoss: 0.709025\n",
            "Train Epoch: 2 [2560/60000 (4%)]\tLoss: 0.554380\n",
            "Train Epoch: 2 [3840/60000 (6%)]\tLoss: 0.440693\n",
            "Train Epoch: 2 [5120/60000 (9%)]\tLoss: 0.472915\n",
            "Train Epoch: 2 [6400/60000 (11%)]\tLoss: 0.466607\n",
            "Train Epoch: 2 [7680/60000 (13%)]\tLoss: 0.517886\n",
            "Train Epoch: 2 [8960/60000 (15%)]\tLoss: 0.486173\n",
            "Train Epoch: 2 [10240/60000 (17%)]\tLoss: 0.611083\n",
            "Train Epoch: 2 [11520/60000 (19%)]\tLoss: 0.548564\n",
            "Train Epoch: 2 [12800/60000 (21%)]\tLoss: 0.550527\n",
            "Train Epoch: 2 [14080/60000 (23%)]\tLoss: 0.465987\n",
            "Train Epoch: 2 [15360/60000 (26%)]\tLoss: 0.583530\n",
            "Train Epoch: 2 [16640/60000 (28%)]\tLoss: 0.443444\n",
            "Train Epoch: 2 [17920/60000 (30%)]\tLoss: 0.561944\n",
            "Train Epoch: 2 [19200/60000 (32%)]\tLoss: 0.363466\n",
            "Train Epoch: 2 [20480/60000 (34%)]\tLoss: 0.516386\n",
            "Train Epoch: 2 [21760/60000 (36%)]\tLoss: 0.512684\n",
            "Train Epoch: 2 [23040/60000 (38%)]\tLoss: 0.538460\n",
            "Train Epoch: 2 [24320/60000 (41%)]\tLoss: 0.389213\n",
            "Train Epoch: 2 [25600/60000 (43%)]\tLoss: 0.537220\n",
            "Train Epoch: 2 [26880/60000 (45%)]\tLoss: 0.432796\n",
            "Train Epoch: 2 [28160/60000 (47%)]\tLoss: 0.450068\n",
            "Train Epoch: 2 [29440/60000 (49%)]\tLoss: 0.493202\n",
            "Train Epoch: 2 [30720/60000 (51%)]\tLoss: 0.485106\n",
            "Train Epoch: 2 [32000/60000 (53%)]\tLoss: 0.567897\n",
            "Train Epoch: 2 [33280/60000 (55%)]\tLoss: 0.363522\n",
            "Train Epoch: 2 [34560/60000 (58%)]\tLoss: 0.381201\n",
            "Train Epoch: 2 [35840/60000 (60%)]\tLoss: 0.433889\n",
            "Train Epoch: 2 [37120/60000 (62%)]\tLoss: 0.560909\n",
            "Train Epoch: 2 [38400/60000 (64%)]\tLoss: 0.593324\n",
            "Train Epoch: 2 [39680/60000 (66%)]\tLoss: 0.335190\n",
            "Train Epoch: 2 [40960/60000 (68%)]\tLoss: 0.460387\n",
            "Train Epoch: 2 [42240/60000 (70%)]\tLoss: 0.496695\n",
            "Train Epoch: 2 [43520/60000 (72%)]\tLoss: 0.439944\n",
            "Train Epoch: 2 [44800/60000 (75%)]\tLoss: 0.408073\n",
            "Train Epoch: 2 [46080/60000 (77%)]\tLoss: 0.457579\n",
            "Train Epoch: 2 [47360/60000 (79%)]\tLoss: 0.465514\n",
            "Train Epoch: 2 [48640/60000 (81%)]\tLoss: 0.591287\n",
            "Train Epoch: 2 [49920/60000 (83%)]\tLoss: 0.439685\n",
            "Train Epoch: 2 [51200/60000 (85%)]\tLoss: 0.554810\n",
            "Train Epoch: 2 [52480/60000 (87%)]\tLoss: 0.362984\n",
            "Train Epoch: 2 [53760/60000 (90%)]\tLoss: 0.616059\n",
            "Train Epoch: 2 [55040/60000 (92%)]\tLoss: 0.457216\n",
            "Train Epoch: 2 [56320/60000 (94%)]\tLoss: 0.532293\n",
            "Train Epoch: 2 [57600/60000 (96%)]\tLoss: 0.296539\n",
            "Train Epoch: 2 [58880/60000 (98%)]\tLoss: 0.420230\n",
            "\n",
            "Test set: Avg. loss: 0.1550, Accuracy: 9558/10000 (96%)\n",
            "\n",
            "Train Epoch: 3 [0/60000 (0%)]\tLoss: 0.393458\n",
            "Train Epoch: 3 [1280/60000 (2%)]\tLoss: 0.401261\n",
            "Train Epoch: 3 [2560/60000 (4%)]\tLoss: 0.332929\n",
            "Train Epoch: 3 [3840/60000 (6%)]\tLoss: 0.334595\n",
            "Train Epoch: 3 [5120/60000 (9%)]\tLoss: 0.333865\n",
            "Train Epoch: 3 [6400/60000 (11%)]\tLoss: 0.321378\n",
            "Train Epoch: 3 [7680/60000 (13%)]\tLoss: 0.512556\n",
            "Train Epoch: 3 [8960/60000 (15%)]\tLoss: 0.417808\n",
            "Train Epoch: 3 [10240/60000 (17%)]\tLoss: 0.593417\n",
            "Train Epoch: 3 [11520/60000 (19%)]\tLoss: 0.369898\n",
            "Train Epoch: 3 [12800/60000 (21%)]\tLoss: 0.389161\n",
            "Train Epoch: 3 [14080/60000 (23%)]\tLoss: 0.362928\n",
            "Train Epoch: 3 [15360/60000 (26%)]\tLoss: 0.341584\n",
            "Train Epoch: 3 [16640/60000 (28%)]\tLoss: 0.324629\n",
            "Train Epoch: 3 [17920/60000 (30%)]\tLoss: 0.423508\n",
            "Train Epoch: 3 [19200/60000 (32%)]\tLoss: 0.294670\n",
            "Train Epoch: 3 [20480/60000 (34%)]\tLoss: 0.435810\n",
            "Train Epoch: 3 [21760/60000 (36%)]\tLoss: 0.578345\n",
            "Train Epoch: 3 [23040/60000 (38%)]\tLoss: 0.217335\n",
            "Train Epoch: 3 [24320/60000 (41%)]\tLoss: 0.318550\n",
            "Train Epoch: 3 [25600/60000 (43%)]\tLoss: 0.226551\n",
            "Train Epoch: 3 [26880/60000 (45%)]\tLoss: 0.488588\n",
            "Train Epoch: 3 [28160/60000 (47%)]\tLoss: 0.260354\n",
            "Train Epoch: 3 [29440/60000 (49%)]\tLoss: 0.423596\n",
            "Train Epoch: 3 [30720/60000 (51%)]\tLoss: 0.357226\n",
            "Train Epoch: 3 [32000/60000 (53%)]\tLoss: 0.313986\n",
            "Train Epoch: 3 [33280/60000 (55%)]\tLoss: 0.353070\n",
            "Train Epoch: 3 [34560/60000 (58%)]\tLoss: 0.321411\n",
            "Train Epoch: 3 [35840/60000 (60%)]\tLoss: 0.572799\n",
            "Train Epoch: 3 [37120/60000 (62%)]\tLoss: 0.360878\n",
            "Train Epoch: 3 [38400/60000 (64%)]\tLoss: 0.419463\n",
            "Train Epoch: 3 [39680/60000 (66%)]\tLoss: 0.334513\n",
            "Train Epoch: 3 [40960/60000 (68%)]\tLoss: 0.295460\n",
            "Train Epoch: 3 [42240/60000 (70%)]\tLoss: 0.314856\n",
            "Train Epoch: 3 [43520/60000 (72%)]\tLoss: 0.383753\n",
            "Train Epoch: 3 [44800/60000 (75%)]\tLoss: 0.305713\n",
            "Train Epoch: 3 [46080/60000 (77%)]\tLoss: 0.585312\n",
            "Train Epoch: 3 [47360/60000 (79%)]\tLoss: 0.330723\n",
            "Train Epoch: 3 [48640/60000 (81%)]\tLoss: 0.360348\n",
            "Train Epoch: 3 [49920/60000 (83%)]\tLoss: 0.298776\n",
            "Train Epoch: 3 [51200/60000 (85%)]\tLoss: 0.321401\n",
            "Train Epoch: 3 [52480/60000 (87%)]\tLoss: 0.559317\n",
            "Train Epoch: 3 [53760/60000 (90%)]\tLoss: 0.279581\n",
            "Train Epoch: 3 [55040/60000 (92%)]\tLoss: 0.333974\n",
            "Train Epoch: 3 [56320/60000 (94%)]\tLoss: 0.412651\n",
            "Train Epoch: 3 [57600/60000 (96%)]\tLoss: 0.283273\n",
            "Train Epoch: 3 [58880/60000 (98%)]\tLoss: 0.605293\n",
            "\n",
            "Test set: Avg. loss: 0.1226, Accuracy: 9634/10000 (96%)\n",
            "\n",
            "Train Epoch: 4 [0/60000 (0%)]\tLoss: 0.295870\n",
            "Train Epoch: 4 [1280/60000 (2%)]\tLoss: 0.430499\n",
            "Train Epoch: 4 [2560/60000 (4%)]\tLoss: 0.398934\n",
            "Train Epoch: 4 [3840/60000 (6%)]\tLoss: 0.258243\n",
            "Train Epoch: 4 [5120/60000 (9%)]\tLoss: 0.335607\n",
            "Train Epoch: 4 [6400/60000 (11%)]\tLoss: 0.345152\n",
            "Train Epoch: 4 [7680/60000 (13%)]\tLoss: 0.279730\n",
            "Train Epoch: 4 [8960/60000 (15%)]\tLoss: 0.380480\n",
            "Train Epoch: 4 [10240/60000 (17%)]\tLoss: 0.358773\n",
            "Train Epoch: 4 [11520/60000 (19%)]\tLoss: 0.214691\n",
            "Train Epoch: 4 [12800/60000 (21%)]\tLoss: 0.294040\n",
            "Train Epoch: 4 [14080/60000 (23%)]\tLoss: 0.274809\n",
            "Train Epoch: 4 [15360/60000 (26%)]\tLoss: 0.299655\n",
            "Train Epoch: 4 [16640/60000 (28%)]\tLoss: 0.269822\n",
            "Train Epoch: 4 [17920/60000 (30%)]\tLoss: 0.310803\n",
            "Train Epoch: 4 [19200/60000 (32%)]\tLoss: 0.324904\n",
            "Train Epoch: 4 [20480/60000 (34%)]\tLoss: 0.321986\n",
            "Train Epoch: 4 [21760/60000 (36%)]\tLoss: 0.337387\n",
            "Train Epoch: 4 [23040/60000 (38%)]\tLoss: 0.368852\n",
            "Train Epoch: 4 [24320/60000 (41%)]\tLoss: 0.451257\n",
            "Train Epoch: 4 [25600/60000 (43%)]\tLoss: 0.247989\n",
            "Train Epoch: 4 [26880/60000 (45%)]\tLoss: 0.335590\n",
            "Train Epoch: 4 [28160/60000 (47%)]\tLoss: 0.388083\n",
            "Train Epoch: 4 [29440/60000 (49%)]\tLoss: 0.401370\n",
            "Train Epoch: 4 [30720/60000 (51%)]\tLoss: 0.270150\n",
            "Train Epoch: 4 [32000/60000 (53%)]\tLoss: 0.298124\n",
            "Train Epoch: 4 [33280/60000 (55%)]\tLoss: 0.350901\n",
            "Train Epoch: 4 [34560/60000 (58%)]\tLoss: 0.235258\n",
            "Train Epoch: 4 [35840/60000 (60%)]\tLoss: 0.303414\n",
            "Train Epoch: 4 [37120/60000 (62%)]\tLoss: 0.182365\n",
            "Train Epoch: 4 [38400/60000 (64%)]\tLoss: 0.449697\n",
            "Train Epoch: 4 [39680/60000 (66%)]\tLoss: 0.248865\n",
            "Train Epoch: 4 [40960/60000 (68%)]\tLoss: 0.249674\n",
            "Train Epoch: 4 [42240/60000 (70%)]\tLoss: 0.420200\n",
            "Train Epoch: 4 [43520/60000 (72%)]\tLoss: 0.317891\n",
            "Train Epoch: 4 [44800/60000 (75%)]\tLoss: 0.293570\n",
            "Train Epoch: 4 [46080/60000 (77%)]\tLoss: 0.236239\n",
            "Train Epoch: 4 [47360/60000 (79%)]\tLoss: 0.345012\n",
            "Train Epoch: 4 [48640/60000 (81%)]\tLoss: 0.287786\n",
            "Train Epoch: 4 [49920/60000 (83%)]\tLoss: 0.298932\n",
            "Train Epoch: 4 [51200/60000 (85%)]\tLoss: 0.260396\n",
            "Train Epoch: 4 [52480/60000 (87%)]\tLoss: 0.385243\n",
            "Train Epoch: 4 [53760/60000 (90%)]\tLoss: 0.303982\n",
            "Train Epoch: 4 [55040/60000 (92%)]\tLoss: 0.259178\n",
            "Train Epoch: 4 [56320/60000 (94%)]\tLoss: 0.174396\n",
            "Train Epoch: 4 [57600/60000 (96%)]\tLoss: 0.233200\n",
            "Train Epoch: 4 [58880/60000 (98%)]\tLoss: 0.249903\n",
            "\n",
            "Test set: Avg. loss: 0.1072, Accuracy: 9671/10000 (97%)\n",
            "\n",
            "Train Epoch: 5 [0/60000 (0%)]\tLoss: 0.322104\n",
            "Train Epoch: 5 [1280/60000 (2%)]\tLoss: 0.292802\n",
            "Train Epoch: 5 [2560/60000 (4%)]\tLoss: 0.424134\n",
            "Train Epoch: 5 [3840/60000 (6%)]\tLoss: 0.232760\n",
            "Train Epoch: 5 [5120/60000 (9%)]\tLoss: 0.178940\n",
            "Train Epoch: 5 [6400/60000 (11%)]\tLoss: 0.292840\n",
            "Train Epoch: 5 [7680/60000 (13%)]\tLoss: 0.334466\n",
            "Train Epoch: 5 [8960/60000 (15%)]\tLoss: 0.324425\n",
            "Train Epoch: 5 [10240/60000 (17%)]\tLoss: 0.448256\n",
            "Train Epoch: 5 [11520/60000 (19%)]\tLoss: 0.329490\n",
            "Train Epoch: 5 [12800/60000 (21%)]\tLoss: 0.255408\n",
            "Train Epoch: 5 [14080/60000 (23%)]\tLoss: 0.245938\n",
            "Train Epoch: 5 [15360/60000 (26%)]\tLoss: 0.347511\n",
            "Train Epoch: 5 [16640/60000 (28%)]\tLoss: 0.262019\n",
            "Train Epoch: 5 [17920/60000 (30%)]\tLoss: 0.293264\n",
            "Train Epoch: 5 [19200/60000 (32%)]\tLoss: 0.386544\n",
            "Train Epoch: 5 [20480/60000 (34%)]\tLoss: 0.312311\n",
            "Train Epoch: 5 [21760/60000 (36%)]\tLoss: 0.318646\n",
            "Train Epoch: 5 [23040/60000 (38%)]\tLoss: 0.371758\n",
            "Train Epoch: 5 [24320/60000 (41%)]\tLoss: 0.225447\n",
            "Train Epoch: 5 [25600/60000 (43%)]\tLoss: 0.307394\n",
            "Train Epoch: 5 [26880/60000 (45%)]\tLoss: 0.339931\n",
            "Train Epoch: 5 [28160/60000 (47%)]\tLoss: 0.233109\n",
            "Train Epoch: 5 [29440/60000 (49%)]\tLoss: 0.188635\n",
            "Train Epoch: 5 [30720/60000 (51%)]\tLoss: 0.191667\n",
            "Train Epoch: 5 [32000/60000 (53%)]\tLoss: 0.198121\n",
            "Train Epoch: 5 [33280/60000 (55%)]\tLoss: 0.185179\n",
            "Train Epoch: 5 [34560/60000 (58%)]\tLoss: 0.316125\n",
            "Train Epoch: 5 [35840/60000 (60%)]\tLoss: 0.348539\n",
            "Train Epoch: 5 [37120/60000 (62%)]\tLoss: 0.296046\n",
            "Train Epoch: 5 [38400/60000 (64%)]\tLoss: 0.218915\n",
            "Train Epoch: 5 [39680/60000 (66%)]\tLoss: 0.321997\n",
            "Train Epoch: 5 [40960/60000 (68%)]\tLoss: 0.321500\n",
            "Train Epoch: 5 [42240/60000 (70%)]\tLoss: 0.224706\n",
            "Train Epoch: 5 [43520/60000 (72%)]\tLoss: 0.199479\n",
            "Train Epoch: 5 [44800/60000 (75%)]\tLoss: 0.339433\n",
            "Train Epoch: 5 [46080/60000 (77%)]\tLoss: 0.218161\n",
            "Train Epoch: 5 [47360/60000 (79%)]\tLoss: 0.245375\n",
            "Train Epoch: 5 [48640/60000 (81%)]\tLoss: 0.298111\n",
            "Train Epoch: 5 [49920/60000 (83%)]\tLoss: 0.254492\n",
            "Train Epoch: 5 [51200/60000 (85%)]\tLoss: 0.302135\n",
            "Train Epoch: 5 [52480/60000 (87%)]\tLoss: 0.213578\n",
            "Train Epoch: 5 [53760/60000 (90%)]\tLoss: 0.402835\n",
            "Train Epoch: 5 [55040/60000 (92%)]\tLoss: 0.269701\n",
            "Train Epoch: 5 [56320/60000 (94%)]\tLoss: 0.215727\n",
            "Train Epoch: 5 [57600/60000 (96%)]\tLoss: 0.354425\n",
            "Train Epoch: 5 [58880/60000 (98%)]\tLoss: 0.207413\n",
            "\n",
            "Test set: Avg. loss: 0.0880, Accuracy: 9731/10000 (97%)\n",
            "\n"
          ],
          "name": "stdout"
        }
      ]
    },
    {
      "cell_type": "markdown",
      "metadata": {
        "id": "XfBdhgRea8Di"
      },
      "source": [
        "Plotting the performance of the network"
      ]
    },
    {
      "cell_type": "code",
      "metadata": {
        "id": "oJR-3VYaa7z3",
        "colab": {
          "base_uri": "https://localhost:8080/",
          "height": 541
        },
        "outputId": "d794d798-65b7-4e8c-c515-e760e83c99c0"
      },
      "source": [
        "fig = plt.figure()\n",
        "plt.plot(train_counter, train_losses, color='blue')\n",
        "plt.scatter(test_counter, test_losses, color='red')\n",
        "plt.legend(['Train Loss', 'Test Loss'], loc='upper right')\n",
        "plt.xlabel('number of training examples seen')\n",
        "plt.ylabel('negative log likelihood loss')\n",
        "fig"
      ],
      "execution_count": null,
      "outputs": [
        {
          "output_type": "execute_result",
          "data": {
            "image/png": "[encoded data removed]",
            "text/plain": [
              "<Figure size 432x288 with 1 Axes>"
            ]
          },
          "metadata": {
            "tags": []
          },
          "execution_count": 53
        },
        {
          "output_type": "display_data",
          "data": {
            "image/png": "[encoded data removed]",
            "text/plain": [
              "<Figure size 432x288 with 1 Axes>"
            ]
          },
          "metadata": {
            "tags": []
          }
        }
      ]
    },
    {
      "cell_type": "code",
      "metadata": {
        "id": "Y9DmcVCjdmL2",
        "colab": {
          "base_uri": "https://localhost:8080/",
          "height": 54
        },
        "outputId": "b90279e3-5871-4aa3-b54b-55c7e8e68e45"
      },
      "source": [
        "with torch.no_grad():\n",
        "  output = network(example_data)"
      ],
      "execution_count": null,
      "outputs": [
        {
          "output_type": "stream",
          "text": [
            "/usr/local/lib/python3.6/dist-packages/ipykernel_launcher.py:17: UserWarning: Implicit dimension choice for log_softmax has been deprecated. Change the call to include dim=X as an argument.\n"
          ],
          "name": "stderr"
        }
      ]
    },
    {
      "cell_type": "code",
      "metadata": {
        "id": "uqnuIja-dmxV",
        "colab": {
          "base_uri": "https://localhost:8080/",
          "height": 551
        },
        "outputId": "35e0508e-c487-4f2d-ce72-5e866df776a4"
      },
      "source": [
        "fig = plt.figure()\n",
        "for i in range(6):\n",
        "  plt.subplot(2,3,i+1)\n",
        "  plt.tight_layout()\n",
        "  plt.imshow(example_data[i][0], cmap='gray', interpolation='none')\n",
        "  plt.title(\"Prediction: {}\".format(\n",
        "    output.data.max(1, keepdim=True)[1][i].item()))\n",
        "  plt.xticks([])\n",
        "  plt.yticks([])\n",
        "fig"
      ],
      "execution_count": null,
      "outputs": [
        {
          "output_type": "execute_result",
          "data": {
            "image/png": "[encoded data removed]",
            "text/plain": [
              "<Figure size 432x288 with 6 Axes>"
            ]
          },
          "metadata": {
            "tags": []
          },
          "execution_count": 56
        },
        {
          "output_type": "display_data",
          "data": {
            "image/png": "[encoded data removed]",
            "text/plain": [
              "<Figure size 432x288 with 6 Axes>"
            ]
          },
          "metadata": {
            "tags": []
          }
        }
      ]
    },
    {
      "cell_type": "markdown",
      "metadata": {
        "id": "JzokzKBifVUv"
      },
      "source": [
        "Compared to KNN classifer on the same MNIST dataset, a CNN has greater accuracy depending upon the number of times it has been trained on the data. My previous lab used Euclidean and Cosine Similarity formulas to calculate accuracy but my CNN is better than both at 97% accuracy."
      ]
    }
  ]
}